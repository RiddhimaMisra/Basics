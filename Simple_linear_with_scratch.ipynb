{
  "nbformat": 4,
  "nbformat_minor": 0,
  "metadata": {
    "colab": {
      "provenance": [],
      "authorship_tag": "ABX9TyNinWvnBSvjJuCwXD75Fzr8",
      "include_colab_link": true
    },
    "kernelspec": {
      "name": "python3",
      "display_name": "Python 3"
    },
    "language_info": {
      "name": "python"
    }
  },
  "cells": [
    {
      "cell_type": "markdown",
      "metadata": {
        "id": "view-in-github",
        "colab_type": "text"
      },
      "source": [
        "<a href=\"https://colab.research.google.com/github/RiddhimaMisra/Machine-Learning/blob/main/Simple_linear_with_scratch.ipynb\" target=\"_parent\"><img src=\"https://colab.research.google.com/assets/colab-badge.svg\" alt=\"Open In Colab\"/></a>"
      ]
    },
    {
      "cell_type": "code",
      "execution_count": null,
      "metadata": {
        "colab": {
          "base_uri": "https://localhost:8080/"
        },
        "id": "_rNJjxJOxth7",
        "outputId": "9ba611b2-e2a7-4399-a615-df04ecd5b206"
      },
      "outputs": [
        {
          "output_type": "stream",
          "name": "stdout",
          "text": [
            "['YearsExperience', 'Salary\\n']\n",
            "['1.1', '39343.00\\n']\n",
            "['1.3', '46205.00\\n']\n",
            "['1.5', '37731.00\\n']\n",
            "['2.0', '43525.00\\n']\n",
            "['2.2', '39891.00\\n']\n",
            "['2.9', '56642.00\\n']\n",
            "['3.0', '60150.00\\n']\n",
            "['3.2', '54445.00\\n']\n",
            "['3.2', '64445.00\\n']\n",
            "['3.7', '57189.00\\n']\n",
            "['3.9', '63218.00\\n']\n",
            "['4.0', '55794.00\\n']\n",
            "['4.0', '56957.00\\n']\n",
            "['4.1', '57081.00\\n']\n",
            "['4.5', '61111.00\\n']\n",
            "['4.9', '67938.00\\n']\n",
            "['5.1', '66029.00\\n']\n",
            "['5.3', '83088.00\\n']\n",
            "['5.9', '81363.00\\n']\n",
            "['6.0', '93940.00\\n']\n",
            "['6.8', '91738.00\\n']\n",
            "['7.1', '98273.00\\n']\n",
            "['7.9', '101302.00\\n']\n",
            "['8.2', '113812.00\\n']\n",
            "['8.7', '109431.00\\n']\n",
            "['9.0', '105582.00\\n']\n",
            "['9.5', '116969.00\\n']\n",
            "['9.6', '112635.00\\n']\n",
            "['10.3', '122391.00\\n']\n",
            "['10.5', '121872.00\\n']\n"
          ]
        }
      ],
      "source": [
        "#Extracting dataset without using pandas\n",
        "\n",
        "csv_file = open(\"/content/Salary_Data.csv\")\n",
        "for Row in csv_file:\n",
        "  print(Row.split(\",\"))  #Splitting each row by commas #Values converted into list which are separated by commas"
      ]
    },
    {
      "cell_type": "markdown",
      "source": [
        "We have the /n which shows the new line."
      ],
      "metadata": {
        "id": "2DvdCgnmzjpl"
      }
    },
    {
      "cell_type": "code",
      "source": [
        "import pandas as pd\n",
        "\n",
        "df = pd.read_csv(\"/content/Salary_Data.csv\")\n",
        "df.head()"
      ],
      "metadata": {
        "colab": {
          "base_uri": "https://localhost:8080/",
          "height": 206
        },
        "id": "tWBQaNIU0Ouk",
        "outputId": "c130e2b6-a3e7-4de2-8040-92b91c081a28"
      },
      "execution_count": null,
      "outputs": [
        {
          "output_type": "execute_result",
          "data": {
            "text/plain": [
              "   YearsExperience   Salary\n",
              "0              1.1  39343.0\n",
              "1              1.3  46205.0\n",
              "2              1.5  37731.0\n",
              "3              2.0  43525.0\n",
              "4              2.2  39891.0"
            ],
            "text/html": [
              "\n",
              "  <div id=\"df-1f4a075d-92d5-47d7-8b30-03c2bf836f00\">\n",
              "    <div class=\"colab-df-container\">\n",
              "      <div>\n",
              "<style scoped>\n",
              "    .dataframe tbody tr th:only-of-type {\n",
              "        vertical-align: middle;\n",
              "    }\n",
              "\n",
              "    .dataframe tbody tr th {\n",
              "        vertical-align: top;\n",
              "    }\n",
              "\n",
              "    .dataframe thead th {\n",
              "        text-align: right;\n",
              "    }\n",
              "</style>\n",
              "<table border=\"1\" class=\"dataframe\">\n",
              "  <thead>\n",
              "    <tr style=\"text-align: right;\">\n",
              "      <th></th>\n",
              "      <th>YearsExperience</th>\n",
              "      <th>Salary</th>\n",
              "    </tr>\n",
              "  </thead>\n",
              "  <tbody>\n",
              "    <tr>\n",
              "      <th>0</th>\n",
              "      <td>1.1</td>\n",
              "      <td>39343.0</td>\n",
              "    </tr>\n",
              "    <tr>\n",
              "      <th>1</th>\n",
              "      <td>1.3</td>\n",
              "      <td>46205.0</td>\n",
              "    </tr>\n",
              "    <tr>\n",
              "      <th>2</th>\n",
              "      <td>1.5</td>\n",
              "      <td>37731.0</td>\n",
              "    </tr>\n",
              "    <tr>\n",
              "      <th>3</th>\n",
              "      <td>2.0</td>\n",
              "      <td>43525.0</td>\n",
              "    </tr>\n",
              "    <tr>\n",
              "      <th>4</th>\n",
              "      <td>2.2</td>\n",
              "      <td>39891.0</td>\n",
              "    </tr>\n",
              "  </tbody>\n",
              "</table>\n",
              "</div>\n",
              "      <button class=\"colab-df-convert\" onclick=\"convertToInteractive('df-1f4a075d-92d5-47d7-8b30-03c2bf836f00')\"\n",
              "              title=\"Convert this dataframe to an interactive table.\"\n",
              "              style=\"display:none;\">\n",
              "        \n",
              "  <svg xmlns=\"http://www.w3.org/2000/svg\" height=\"24px\"viewBox=\"0 0 24 24\"\n",
              "       width=\"24px\">\n",
              "    <path d=\"M0 0h24v24H0V0z\" fill=\"none\"/>\n",
              "    <path d=\"M18.56 5.44l.94 2.06.94-2.06 2.06-.94-2.06-.94-.94-2.06-.94 2.06-2.06.94zm-11 1L8.5 8.5l.94-2.06 2.06-.94-2.06-.94L8.5 2.5l-.94 2.06-2.06.94zm10 10l.94 2.06.94-2.06 2.06-.94-2.06-.94-.94-2.06-.94 2.06-2.06.94z\"/><path d=\"M17.41 7.96l-1.37-1.37c-.4-.4-.92-.59-1.43-.59-.52 0-1.04.2-1.43.59L10.3 9.45l-7.72 7.72c-.78.78-.78 2.05 0 2.83L4 21.41c.39.39.9.59 1.41.59.51 0 1.02-.2 1.41-.59l7.78-7.78 2.81-2.81c.8-.78.8-2.07 0-2.86zM5.41 20L4 18.59l7.72-7.72 1.47 1.35L5.41 20z\"/>\n",
              "  </svg>\n",
              "      </button>\n",
              "      \n",
              "  <style>\n",
              "    .colab-df-container {\n",
              "      display:flex;\n",
              "      flex-wrap:wrap;\n",
              "      gap: 12px;\n",
              "    }\n",
              "\n",
              "    .colab-df-convert {\n",
              "      background-color: #E8F0FE;\n",
              "      border: none;\n",
              "      border-radius: 50%;\n",
              "      cursor: pointer;\n",
              "      display: none;\n",
              "      fill: #1967D2;\n",
              "      height: 32px;\n",
              "      padding: 0 0 0 0;\n",
              "      width: 32px;\n",
              "    }\n",
              "\n",
              "    .colab-df-convert:hover {\n",
              "      background-color: #E2EBFA;\n",
              "      box-shadow: 0px 1px 2px rgba(60, 64, 67, 0.3), 0px 1px 3px 1px rgba(60, 64, 67, 0.15);\n",
              "      fill: #174EA6;\n",
              "    }\n",
              "\n",
              "    [theme=dark] .colab-df-convert {\n",
              "      background-color: #3B4455;\n",
              "      fill: #D2E3FC;\n",
              "    }\n",
              "\n",
              "    [theme=dark] .colab-df-convert:hover {\n",
              "      background-color: #434B5C;\n",
              "      box-shadow: 0px 1px 3px 1px rgba(0, 0, 0, 0.15);\n",
              "      filter: drop-shadow(0px 1px 2px rgba(0, 0, 0, 0.3));\n",
              "      fill: #FFFFFF;\n",
              "    }\n",
              "  </style>\n",
              "\n",
              "      <script>\n",
              "        const buttonEl =\n",
              "          document.querySelector('#df-1f4a075d-92d5-47d7-8b30-03c2bf836f00 button.colab-df-convert');\n",
              "        buttonEl.style.display =\n",
              "          google.colab.kernel.accessAllowed ? 'block' : 'none';\n",
              "\n",
              "        async function convertToInteractive(key) {\n",
              "          const element = document.querySelector('#df-1f4a075d-92d5-47d7-8b30-03c2bf836f00');\n",
              "          const dataTable =\n",
              "            await google.colab.kernel.invokeFunction('convertToInteractive',\n",
              "                                                     [key], {});\n",
              "          if (!dataTable) return;\n",
              "\n",
              "          const docLinkHtml = 'Like what you see? Visit the ' +\n",
              "            '<a target=\"_blank\" href=https://colab.research.google.com/notebooks/data_table.ipynb>data table notebook</a>'\n",
              "            + ' to learn more about interactive tables.';\n",
              "          element.innerHTML = '';\n",
              "          dataTable['output_type'] = 'display_data';\n",
              "          await google.colab.output.renderOutput(dataTable, element);\n",
              "          const docLink = document.createElement('div');\n",
              "          docLink.innerHTML = docLinkHtml;\n",
              "          element.appendChild(docLink);\n",
              "        }\n",
              "      </script>\n",
              "    </div>\n",
              "  </div>\n",
              "  "
            ]
          },
          "metadata": {},
          "execution_count": 12
        }
      ]
    },
    {
      "cell_type": "code",
      "source": [
        "#Storing Values\n",
        "x = df.YearsExperience #Independent feature\n",
        "y = df.Salary  #Dependent feature"
      ],
      "metadata": {
        "id": "xBVZVPLG4DfQ"
      },
      "execution_count": null,
      "outputs": []
    },
    {
      "cell_type": "markdown",
      "source": [
        "![linear.png](data:image/png;base64,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)"
      ],
      "metadata": {
        "id": "nLZh-yC5AVJF"
      }
    },
    {
      "cell_type": "code",
      "source": [
        "#Calculating the mean\n",
        "mean_x = x.mean()\n",
        "\n",
        "#Creating column and Storing data btwn actual Exp and mean of Exp \n",
        "df[\"diff_x\"] = mean_x - x\n",
        "\n",
        "#Storing the square of differences of Exp \n",
        "df[\"diff_x_sqr\"] = df.diff_x ** 2\n",
        "\n",
        "#Sum of standard deviation [a measure of how dispersed the data is in relation to the mean]\n",
        "sum_dev_x = df.diff_x_sqr.sum()"
      ],
      "metadata": {
        "id": "RZi67bkZ46Hd"
      },
      "execution_count": null,
      "outputs": []
    },
    {
      "cell_type": "code",
      "source": [
        "#Calculating the mean\n",
        "mean_y = y.mean()\n",
        "\n",
        "#Creating column and Storing data btwn actual Salary and mean of Salary \n",
        "df[\"diff_y\"] = mean_y - y\n",
        "\n",
        "#Sum of deviation of x and y\n",
        "sum_dev_x_y = (df.diff_x * df.diff_y).sum()"
      ],
      "metadata": {
        "id": "X-sJHKYR5ekx"
      },
      "execution_count": null,
      "outputs": []
    },
    {
      "cell_type": "markdown",
      "source": [
        "## **SLOPE                   (**m**) = Sum of Deviation of X and Y / Sum of Deviation of X**"
      ],
      "metadata": {
        "id": "2OZ9OSi0-ItQ"
      }
    },
    {
      "cell_type": "code",
      "source": [
        "#Finding the Slope \n",
        "m = sum_dev_x_y / sum_dev_x\n",
        "m"
      ],
      "metadata": {
        "colab": {
          "base_uri": "https://localhost:8080/"
        },
        "id": "2StJR7_c-591",
        "outputId": "5004d7e1-7778-454d-9b7f-70f2ac7257a3"
      },
      "execution_count": null,
      "outputs": [
        {
          "output_type": "execute_result",
          "data": {
            "text/plain": [
              "9449.962321455077"
            ]
          },
          "metadata": {},
          "execution_count": 23
        }
      ]
    },
    {
      "cell_type": "markdown",
      "source": [
        "### **INTERCEPT (c) is the expected mean value of Y when all X=0.**"
      ],
      "metadata": {
        "id": "fwOc56Bv_97W"
      }
    },
    {
      "cell_type": "code",
      "source": [
        "#Finding the intercept of y\n",
        "c = mean_y - m * mean_x\n",
        "c"
      ],
      "metadata": {
        "colab": {
          "base_uri": "https://localhost:8080/"
        },
        "id": "yvRlJ4Ud_G7R",
        "outputId": "d2befb64-c6bf-49ef-9f33-05dd57983879"
      },
      "execution_count": null,
      "outputs": [
        {
          "output_type": "execute_result",
          "data": {
            "text/plain": [
              "25792.20019866869"
            ]
          },
          "metadata": {},
          "execution_count": 25
        }
      ]
    },
    {
      "cell_type": "markdown",
      "source": [
        "#### **PREDICTING VALUES**"
      ],
      "metadata": {
        "id": "Te0k-Ja8Ca_L"
      }
    },
    {
      "cell_type": "code",
      "source": [
        "Pred_Sal = []    #Creating list to store the values\n",
        "for i in df[\"YearsExperience\"]:\n",
        "  Pred_Sal.append(m * i + c)   #append is adding items to the end of a given list"
      ],
      "metadata": {
        "id": "nWnzcxqXB9kg"
      },
      "execution_count": null,
      "outputs": []
    },
    {
      "cell_type": "code",
      "source": [
        "Pred_Sal   #Checking the predicted values"
      ],
      "metadata": {
        "colab": {
          "base_uri": "https://localhost:8080/"
        },
        "id": "fDtcUnhbDyzg",
        "outputId": "0cfab827-45a2-40f4-f925-a3184bad4f71"
      },
      "execution_count": null,
      "outputs": [
        {
          "output_type": "execute_result",
          "data": {
            "text/plain": [
              "[36187.15875226927,\n",
              " 38077.15121656029,\n",
              " 39967.1436808513,\n",
              " 44692.12484157884,\n",
              " 46582.11730586986,\n",
              " 53197.090930888415,\n",
              " 54142.087163033924,\n",
              " 56032.079627324936,\n",
              " 56032.079627324936,\n",
              " 60757.06078805248,\n",
              " 62647.05325234349,\n",
              " 63592.049484489,\n",
              " 63592.049484489,\n",
              " 64537.0457166345,\n",
              " 68317.03064521654,\n",
              " 72097.01557379856,\n",
              " 73987.00803808958,\n",
              " 75877.0005023806,\n",
              " 81546.97789525366,\n",
              " 82491.97412739915,\n",
              " 90051.94398456322,\n",
              " 92886.93268099974,\n",
              " 100446.90253816379,\n",
              " 103281.8912346003,\n",
              " 108006.87239532787,\n",
              " 110841.86109176438,\n",
              " 115566.84225249192,\n",
              " 116511.83848463744,\n",
              " 123126.81210965599,\n",
              " 125016.80457394701]"
            ]
          },
          "metadata": {},
          "execution_count": 31
        }
      ]
    },
    {
      "cell_type": "code",
      "source": [
        "diff_pred = []\n",
        "y_actual_y_pred = zip(df[\"Salary\"], Pred_Sal)\n",
        "for i,j in y_actual_y_pred:\n",
        "  diff_pred.append(i - j)"
      ],
      "metadata": {
        "id": "OCR5IIsXEYGu"
      },
      "execution_count": null,
      "outputs": []
    },
    {
      "cell_type": "code",
      "source": [
        "diff_pred"
      ],
      "metadata": {
        "colab": {
          "base_uri": "https://localhost:8080/"
        },
        "id": "-qk05UT_I2GK",
        "outputId": "2a5fd77b-b98d-4b8e-a182-bc7279dcfdc4"
      },
      "execution_count": null,
      "outputs": [
        {
          "output_type": "execute_result",
          "data": {
            "text/plain": [
              "[3155.8412477307284,\n",
              " 8127.848783439709,\n",
              " -2236.1436808513026,\n",
              " -1167.1248415788432,\n",
              " -6691.117305869862,\n",
              " 3444.9090691115853,\n",
              " 6007.912836966076,\n",
              " -1587.0796273249362,\n",
              " 8412.920372675064,\n",
              " -3568.0607880524767,\n",
              " 570.9467476565114,\n",
              " -7798.049484488998,\n",
              " -6635.049484488998,\n",
              " -7456.0457166345,\n",
              " -7206.030645216539,\n",
              " -4159.015573798562,\n",
              " -7958.0080380895815,\n",
              " 7210.999497619399,\n",
              " -183.97789525365806,\n",
              " 11448.025872600847,\n",
              " 1686.056015436785,\n",
              " 5386.067319000256,\n",
              " 855.0974618362088,\n",
              " 10530.108765399695,\n",
              " 1424.1276046721323,\n",
              " -5259.861091764382,\n",
              " 1402.1577475080849,\n",
              " -3876.8384846374393,\n",
              " -735.8121096559917,\n",
              " -3144.804573947011]"
            ]
          },
          "metadata": {},
          "execution_count": 33
        }
      ]
    },
    {
      "cell_type": "markdown",
      "source": [
        "## **Finding R Square**"
      ],
      "metadata": {
        "id": "CDsLu9bSLpEb"
      }
    },
    {
      "cell_type": "markdown",
      "source": [
        "![Screenshot (280).png](data:image/png;base64,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)"
      ],
      "metadata": {
        "id": "NOyGFGCPMGZ4"
      }
    },
    {
      "cell_type": "code",
      "source": [
        "Diff_salpred_meany = ((Pred_Sal - mean_y) ** 2).sum()\n",
        "diff_y_meany = ((y - mean_y) ** 2).sum()\n",
        "\n",
        "#Value of Rsquare\n",
        "R_Square = Diff_salpred_meany / diff_y_meany\n",
        "R_Square"
      ],
      "metadata": {
        "colab": {
          "base_uri": "https://localhost:8080/"
        },
        "id": "W1T6gFgPStGH",
        "outputId": "ee588cd2-03be-478b-8b31-dedbf8f7e9c0"
      },
      "execution_count": null,
      "outputs": [
        {
          "output_type": "execute_result",
          "data": {
            "text/plain": [
              "0.9569566641435084"
            ]
          },
          "metadata": {},
          "execution_count": 45
        }
      ]
    }
  ]
}